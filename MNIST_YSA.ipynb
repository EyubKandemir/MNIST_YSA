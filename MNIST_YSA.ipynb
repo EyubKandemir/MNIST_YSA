{
  "nbformat": 4,
  "nbformat_minor": 0,
  "metadata": {
    "colab": {
      "name": "MNIST_YSA.ipynb",
      "provenance": []
    },
    "kernelspec": {
      "name": "python3",
      "display_name": "Python 3"
    }
  },
  "cells": [
    {
      "cell_type": "markdown",
      "metadata": {
        "id": "APhss1-qQ6df"
      },
      "source": [
        "## MNIST VERİ KÜMESİNİ YÜKLEMEK\n"
      ]
    },
    {
      "cell_type": "markdown",
      "metadata": {
        "id": "TUZDrRPTRApH"
      },
      "source": [
        "# MNIST VERİ KÜMESİNİN KULLANARAK YAPAY SİNİR AĞLARI İLE RAKAMA SINIFLANDIRMA\n"
      ]
    },
    {
      "cell_type": "code",
      "metadata": {
        "id": "k3NNWCFnObiJ",
        "outputId": "24bfa254-0420-4aba-bd05-ed38ba284271",
        "colab": {
          "base_uri": "https://localhost:8080/",
          "height": 51
        }
      },
      "source": [
        "from keras.datasets import mnist\n",
        "\n",
        "(train_images,train_labels),(test_images,test_labels) = mnist.load_data();\n"
      ],
      "execution_count": 2,
      "outputs": [
        {
          "output_type": "stream",
          "text": [
            "Downloading data from https://storage.googleapis.com/tensorflow/tf-keras-datasets/mnist.npz\n",
            "11493376/11490434 [==============================] - 0s 0us/step\n"
          ],
          "name": "stdout"
        }
      ]
    },
    {
      "cell_type": "code",
      "metadata": {
        "id": "Iuj7gR_hPABa",
        "outputId": "1656b4b1-9d73-4357-877b-8cd61485dfa1",
        "colab": {
          "base_uri": "https://localhost:8080/",
          "height": 34
        }
      },
      "source": [
        "train_images.shape"
      ],
      "execution_count": 4,
      "outputs": [
        {
          "output_type": "execute_result",
          "data": {
            "text/plain": [
              "(60000, 28, 28)"
            ]
          },
          "metadata": {
            "tags": []
          },
          "execution_count": 4
        }
      ]
    },
    {
      "cell_type": "code",
      "metadata": {
        "id": "1wXEy88sPI55",
        "outputId": "27ac308e-3fd8-4b12-9b7a-941b19e67e98",
        "colab": {
          "base_uri": "https://localhost:8080/",
          "height": 34
        }
      },
      "source": [
        "len(train_images)"
      ],
      "execution_count": 5,
      "outputs": [
        {
          "output_type": "execute_result",
          "data": {
            "text/plain": [
              "60000"
            ]
          },
          "metadata": {
            "tags": []
          },
          "execution_count": 5
        }
      ]
    },
    {
      "cell_type": "code",
      "metadata": {
        "id": "0iDatwe4PWMN",
        "outputId": "26815fbf-d174-4bcb-c977-52c734116b17",
        "colab": {
          "base_uri": "https://localhost:8080/",
          "height": 34
        }
      },
      "source": [
        "train_labels"
      ],
      "execution_count": 7,
      "outputs": [
        {
          "output_type": "execute_result",
          "data": {
            "text/plain": [
              "array([5, 0, 4, ..., 5, 6, 8], dtype=uint8)"
            ]
          },
          "metadata": {
            "tags": []
          },
          "execution_count": 7
        }
      ]
    },
    {
      "cell_type": "code",
      "metadata": {
        "id": "1QIq2EQHPtvw",
        "outputId": "3b9ee293-2101-4ec1-d091-655ad8824de8",
        "colab": {
          "base_uri": "https://localhost:8080/",
          "height": 34
        }
      },
      "source": [
        "test_images.shape"
      ],
      "execution_count": 8,
      "outputs": [
        {
          "output_type": "execute_result",
          "data": {
            "text/plain": [
              "(10000, 28, 28)"
            ]
          },
          "metadata": {
            "tags": []
          },
          "execution_count": 8
        }
      ]
    },
    {
      "cell_type": "code",
      "metadata": {
        "id": "wGkJBqJ6Q0wQ",
        "outputId": "72aed0f7-2f1f-4a35-de38-9681825d7027",
        "colab": {
          "base_uri": "https://localhost:8080/",
          "height": 34
        }
      },
      "source": [
        "test_labels"
      ],
      "execution_count": 9,
      "outputs": [
        {
          "output_type": "execute_result",
          "data": {
            "text/plain": [
              "array([7, 2, 1, ..., 4, 5, 6], dtype=uint8)"
            ]
          },
          "metadata": {
            "tags": []
          },
          "execution_count": 9
        }
      ]
    },
    {
      "cell_type": "markdown",
      "metadata": {
        "id": "n7B4bcnuRJ1V"
      },
      "source": [
        "## Yapay Sini Ağı Mimarisi\n"
      ]
    },
    {
      "cell_type": "code",
      "metadata": {
        "id": "TYEf7T9DROfH"
      },
      "source": [
        "from keras import models\n",
        "from keras import layers"
      ],
      "execution_count": 10,
      "outputs": []
    },
    {
      "cell_type": "code",
      "metadata": {
        "id": "dt7ie3wURXOT"
      },
      "source": [
        "network = models.Sequential()\n",
        "network.add(layers.Dense(512,activation='relu',input_shape = (28*28,)))\n",
        "#28*28 veri setinin shape boyutundan gelmektedir, \n",
        "#512 adet sinir hücresi ortalama bir değer\n",
        "#relu  aktivasyon fonksiyonumuz\n",
        "\n",
        "network.add(layers.Dense(10,activation='softmax'))\n",
        "#0-9 , 10 adet rakam vardır\n",
        "#softmax aktivasyon fonksiyonumuz \n"
      ],
      "execution_count": 11,
      "outputs": []
    },
    {
      "cell_type": "markdown",
      "metadata": {
        "id": "J1N0XNByUdT4"
      },
      "source": [
        "## YSA Modelinin Derlenmesi"
      ]
    },
    {
      "cell_type": "code",
      "metadata": {
        "id": "t2QQGq8FUkxz"
      },
      "source": [
        "network.compile(optimizer='rmsprop',\n",
        "                loss = 'categorical_crossentropy',\n",
        "                metrics = ['accuracy'])\n",
        "\n",
        "#rmsprop optimizer fonksiyonumuz\n",
        "#loss , yitim değeri, başarıya giderken geriye yayılım uygulanınca bir loss hesaplanır, bunu minimize etmeye çalışırız\n",
        "#metrics , başarı metriği hesaplanır, accuracy hesaplanır, presition, recall,"
      ],
      "execution_count": 12,
      "outputs": []
    },
    {
      "cell_type": "markdown",
      "metadata": {
        "id": "JOM4rHQGZeor"
      },
      "source": [
        "## Girişlerin ve Etiketlerin Hazırlanması"
      ]
    },
    {
      "cell_type": "code",
      "metadata": {
        "id": "WCctHKiXZjqd"
      },
      "source": [
        "train_images = train_images.reshape((60000,28*28))\n",
        "train_images = train_images.astype('float32')/255\n",
        "#/255 görüntü işlemede klasik normalizasyon\n",
        "\n",
        "test_images = test_images.reshape((10000,28*28))\n",
        "test_images = test_images.astype('float32')/255\n",
        "\n"
      ],
      "execution_count": 13,
      "outputs": []
    },
    {
      "cell_type": "code",
      "metadata": {
        "id": "Mgw6HLanaLuC"
      },
      "source": [
        "from keras.utils import to_categorical\n",
        "\n",
        "train_labels = to_categorical(train_labels)\n",
        "test_labels = to_categorical(test_labels)"
      ],
      "execution_count": 15,
      "outputs": []
    },
    {
      "cell_type": "markdown",
      "metadata": {
        "id": "d9mj1aO3af1w"
      },
      "source": [
        "## YSA Modelinin Eğitilmesi"
      ]
    },
    {
      "cell_type": "code",
      "metadata": {
        "id": "AM3VAGqUajum",
        "outputId": "d5884c39-491b-415d-b371-f2721f03f489",
        "colab": {
          "base_uri": "https://localhost:8080/",
          "height": 204
        }
      },
      "source": [
        "network.fit(train_images,train_labels,epochs = 5,batch_size = 128)"
      ],
      "execution_count": 16,
      "outputs": [
        {
          "output_type": "stream",
          "text": [
            "Epoch 1/5\n",
            "469/469 [==============================] - 5s 11ms/step - loss: 0.2583 - accuracy: 0.9249\n",
            "Epoch 2/5\n",
            "469/469 [==============================] - 5s 11ms/step - loss: 0.1055 - accuracy: 0.9682\n",
            "Epoch 3/5\n",
            "469/469 [==============================] - 8s 17ms/step - loss: 0.0702 - accuracy: 0.9790\n",
            "Epoch 4/5\n",
            "469/469 [==============================] - 6s 12ms/step - loss: 0.0508 - accuracy: 0.9846\n",
            "Epoch 5/5\n",
            "469/469 [==============================] - 5s 11ms/step - loss: 0.0391 - accuracy: 0.9882\n"
          ],
          "name": "stdout"
        },
        {
          "output_type": "execute_result",
          "data": {
            "text/plain": [
              "<tensorflow.python.keras.callbacks.History at 0x7ff82d0134e0>"
            ]
          },
          "metadata": {
            "tags": []
          },
          "execution_count": 16
        }
      ]
    },
    {
      "cell_type": "code",
      "metadata": {
        "id": "1E3CR_qoa16C",
        "outputId": "6b802d83-3b42-43de-a286-002a3b2ca550",
        "colab": {
          "base_uri": "https://localhost:8080/",
          "height": 34
        }
      },
      "source": [
        "test_loss,test_acc = network.evaluate(test_images,test_labels)\n"
      ],
      "execution_count": 17,
      "outputs": [
        {
          "output_type": "stream",
          "text": [
            "313/313 [==============================] - 1s 3ms/step - loss: 0.0773 - accuracy: 0.9781\n"
          ],
          "name": "stdout"
        }
      ]
    },
    {
      "cell_type": "code",
      "metadata": {
        "id": "fAP9XJPYbRUQ",
        "outputId": "c20312f7-412e-4970-e1df-94046cc90b04",
        "colab": {
          "base_uri": "https://localhost:8080/",
          "height": 51
        }
      },
      "source": [
        "print('test_loss:',test_loss)\n",
        "print('test accuracy:',test_acc)"
      ],
      "execution_count": 18,
      "outputs": [
        {
          "output_type": "stream",
          "text": [
            "test_loss: 0.07725651562213898\n",
            "test accuracy: 0.9781000018119812\n"
          ],
          "name": "stdout"
        }
      ]
    }
  ]
}